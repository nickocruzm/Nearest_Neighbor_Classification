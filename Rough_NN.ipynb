{
 "cells": [
  {
   "cell_type": "code",
   "execution_count": 123,
   "metadata": {},
   "outputs": [],
   "source": [
    "import numpy as np\n",
    "\n",
    "def read_data(fileName):\n",
    "    # Read the file\n",
    "    with open(fileName, 'r') as file:\n",
    "        # Read lines and split by whitespace\n",
    "        lines = file.readlines()\n",
    "        data = [line.strip().split() for line in lines]\n",
    "\n",
    "    # Convert data to a numpy array\n",
    "    matrix = np.array(data, dtype=float)\n",
    "    return matrix"
   ]
  },
  {
   "cell_type": "code",
   "execution_count": 124,
   "metadata": {},
   "outputs": [],
   "source": [
    "fileName = \"small_test_dataset.txt\"\n",
    "data = read_data(fileName)"
   ]
  },
  {
   "cell_type": "code",
   "execution_count": 125,
   "metadata": {},
   "outputs": [],
   "source": [
    "import pandas as pd\n",
    "\n",
    "\n",
    "def read_data(filename):\n",
    "    # Read the file\n",
    "    with open(filename, 'r') as file:\n",
    "        # Read lines and split by whitespace\n",
    "        lines = file.readlines()\n",
    "        data = [line.strip().split() for line in lines]\n",
    "\n",
    "    # Create a DataFrame from the data\n",
    "    df = pd.DataFrame(data, dtype=float)\n",
    "\n",
    "    return df\n",
    "\n",
    "# Example usage\n",
    "filename = 'small_test_dataset.txt'  # Replace with your file name\n",
    "df = read_data(filename)"
   ]
  },
  {
   "cell_type": "code",
   "execution_count": 126,
   "metadata": {},
   "outputs": [],
   "source": [
    "test_arr = np.array([[1,3.2,4.5,2.1],[2,1.0,2.4,5.0],[1,3.9,6.8,4.0]])\n"
   ]
  },
  {
   "cell_type": "code",
   "execution_count": 127,
   "metadata": {},
   "outputs": [
    {
     "name": "stdout",
     "output_type": "stream",
     "text": [
      "[{'instance': 0, 'Neighbors': [3.064310689208912, 5.3637673327615545]}, {'instance': 1, 'Neighbors': [3.064310689208912, 4.202380277890139]}, {'instance': 2, 'Neighbors': [5.3637673327615545, 4.202380277890139]}]\n"
     ]
    }
   ],
   "source": [
    "# entire kernel calculates distances for each instance from a given array of data\n",
    "# ignores the first columns data, since these data points are instance labels.\n",
    "\n",
    "def euclidean_dist(a,b,arr):\n",
    "    # Caluculates the distance between the 2 instances a and b.\n",
    "    rolling_sum = 0\n",
    "    inst_a = arr[a-1]\n",
    "    inst_b = arr[b-1]\n",
    "    # print(f'a: {inst_a}')\n",
    "    # print(f'b: {inst_b}')\n",
    "    for i in range(1, len(inst_a)):\n",
    "        diff = np.power( inst_a[i] - inst_b[i],2)\n",
    "        \n",
    "        rolling_sum = rolling_sum + diff\n",
    "        \n",
    "        #print(diff, rolling_sum)\n",
    "        \n",
    "    \n",
    "    return np.sqrt(rolling_sum)\n",
    "\n",
    "\n",
    "# iterates through each instance, calculates each instances distance from the current instance.\n",
    "# after distances are caluclated for i-th instance I append the array of distances (d) to the Distance matrix.\n",
    "# Each instance should have n-1 distances. Where n is the number of instances used.\n",
    "Distances = []\n",
    "\n",
    "for i in range(0, len(test_arr)):\n",
    "    N = {'instance':i, 'Neighbors':[]}\n",
    "    for j in range(0,len(test_arr)):\n",
    "        if(j == i):\n",
    "            continue\n",
    "        \n",
    "        else:\n",
    "            N['Neighbors'].append(euclidean_dist(i,j,test_arr))\n",
    "    \n",
    "    \n",
    "    Distances.append(N)\n",
    "\n",
    "\n",
    "print(Distances)\n",
    "        \n",
    "        \n",
    "  # TODO: Sort the (d) array in ascending order, so that way when the (k)-NN for the i-th instance would just be \n",
    "  # i-Neighbors = Distance[i][0:k-1]\n",
    "  # I would also have eliminate the \n"
   ]
  },
  {
   "cell_type": "code",
   "execution_count": 128,
   "metadata": {},
   "outputs": [
    {
     "name": "stdout",
     "output_type": "stream",
     "text": [
      "   label  feature_1  feature_2  feature_3\n",
      "0    1.0        3.2        4.5        2.1\n",
      "1    2.0        1.0        2.4        5.0\n",
      "2    1.0        3.9        6.8        4.0\n"
     ]
    }
   ],
   "source": [
    "\n",
    "test_df = pd.DataFrame(test_arr,columns=['label','feature_1','feature_2','feature_3'])\n",
    "print(test_df)"
   ]
  },
  {
   "attachments": {},
   "cell_type": "markdown",
   "metadata": {},
   "source": [
    "To Identify Nearest (k) Neighbors"
   ]
  },
  {
   "cell_type": "code",
   "execution_count": 129,
   "metadata": {},
   "outputs": [],
   "source": [
    "# create a column labeled (k-Neighbors)\n",
    "\n",
    " "
   ]
  },
  {
   "cell_type": "code",
   "execution_count": 130,
   "metadata": {},
   "outputs": [
    {
     "name": "stdout",
     "output_type": "stream",
     "text": [
      "2\n"
     ]
    }
   ],
   "source": [
    "A = [[1,2,3],[4,5,6]]\n",
    "print(A[0][1])"
   ]
  }
 ],
 "metadata": {
  "kernelspec": {
   "display_name": "base",
   "language": "python",
   "name": "python3"
  },
  "language_info": {
   "codemirror_mode": {
    "name": "ipython",
    "version": 3
   },
   "file_extension": ".py",
   "mimetype": "text/x-python",
   "name": "python",
   "nbconvert_exporter": "python",
   "pygments_lexer": "ipython3",
   "version": "3.9.13"
  },
  "orig_nbformat": 4
 },
 "nbformat": 4,
 "nbformat_minor": 2
}
