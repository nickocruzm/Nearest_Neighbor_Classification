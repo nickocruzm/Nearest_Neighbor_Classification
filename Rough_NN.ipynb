{
 "cells": [
  {
   "cell_type": "code",
   "execution_count": 101,
   "metadata": {},
   "outputs": [],
   "source": [
    "import numpy as np\n",
    "\n",
    "def read_data(fileName):\n",
    "    # Read the file\n",
    "    with open(fileName, 'r') as file:\n",
    "        # Read lines and split by whitespace\n",
    "        lines = file.readlines()\n",
    "        data = [line.strip().split() for line in lines]\n",
    "\n",
    "    # Convert data to a numpy array\n",
    "    matrix = np.array(data, dtype=float)\n",
    "    return matrix"
   ]
  },
  {
   "cell_type": "code",
   "execution_count": 102,
   "metadata": {},
   "outputs": [],
   "source": [
    "fileName = \"small_test_dataset.txt\"\n",
    "data = read_data(fileName)"
   ]
  },
  {
   "cell_type": "code",
   "execution_count": 103,
   "metadata": {},
   "outputs": [],
   "source": [
    "import pandas as pd\n",
    "\n",
    "\n",
    "def read_data(filename):\n",
    "    # Read the file\n",
    "    with open(filename, 'r') as file:\n",
    "        # Read lines and split by whitespace\n",
    "        lines = file.readlines()\n",
    "        data = [line.strip().split() for line in lines]\n",
    "\n",
    "    # Create a DataFrame from the data\n",
    "    df = pd.DataFrame(data, dtype=float)\n",
    "\n",
    "    return df\n",
    "\n",
    "# Example usage\n",
    "filename = 'small_test_dataset.txt'  # Replace with your file name\n",
    "df = read_data(filename)"
   ]
  },
  {
   "cell_type": "code",
   "execution_count": 104,
   "metadata": {},
   "outputs": [],
   "source": [
    "test_arr = np.array([[1,3.2,4.5,2.1],[2,1.0,2.4,5.0],[1,3.9,6.8,4.0]])\n"
   ]
  },
  {
   "cell_type": "code",
   "execution_count": 105,
   "metadata": {},
   "outputs": [
    {
     "name": "stdout",
     "output_type": "stream",
     "text": [
      "[{'instance': 0, 'Neighbors': [3.064310689208912, 5.3637673327615545]}, {'instance': 1, 'Neighbors': [3.064310689208912, 4.202380277890139]}, {'instance': 2, 'Neighbors': [5.3637673327615545, 4.202380277890139]}]\n"
     ]
    }
   ],
   "source": [
    "# entire kernel calculates distances for each instance from a given array of data\n",
    "# ignores the first columns data, since these data points are instance labels.\n",
    "\n",
    "def euclidean_dist(a,b,arr):\n",
    "    # Caluculates the distance between the 2 instances a and b.\n",
    "    rolling_sum = 0\n",
    "    inst_a = arr[a-1]\n",
    "    inst_b = arr[b-1]\n",
    "    # print(f'a: {inst_a}')\n",
    "    # print(f'b: {inst_b}')\n",
    "    for i in range(1, len(inst_a)):\n",
    "        diff = np.power( inst_a[i] - inst_b[i],2)\n",
    "        \n",
    "        rolling_sum = rolling_sum + diff\n",
    "        \n",
    "        #print(diff, rolling_sum)\n",
    "        \n",
    "    \n",
    "    return np.sqrt(rolling_sum)\n",
    "\n",
    "\n",
    "# iterates through each instance, calculates each instances distance from the current instance.\n",
    "# after distances are caluclated for i-th instance I append the array of distances (d) to the Distance matrix.\n",
    "# Each instance should have n-1 distances. Where n is the number of instances used.\n",
    "Distances = []\n",
    "\n",
    "for i in range(0, len(test_arr)):\n",
    "    N = {'instance':i, 'Neighbors':[]}\n",
    "    for j in range(0,len(test_arr)):\n",
    "        if(j == i):\n",
    "            continue\n",
    "        \n",
    "        else:\n",
    "            N['Neighbors'].append(euclidean_dist(i,j,test_arr))\n",
    "    \n",
    "    \n",
    "    Distances.append(N)\n",
    "\n",
    "\n",
    "print(Distances)\n",
    "        \n",
    "        \n",
    "  # TODO: Sort the (d) array in ascending order, so that way when the (k)-NN for the i-th instance would just be \n",
    "  # i-Neighbors = Distance[i][0:k-1]\n",
    "  # I would also have eliminate the \n"
   ]
  },
  {
   "cell_type": "code",
   "execution_count": 106,
   "metadata": {},
   "outputs": [
    {
     "name": "stdout",
     "output_type": "stream",
     "text": [
      "   label  feature_1  feature_2  feature_3\n",
      "0    1.0        3.2        4.5        2.1\n",
      "1    2.0        1.0        2.4        5.0\n",
      "2    1.0        3.9        6.8        4.0\n"
     ]
    }
   ],
   "source": [
    "\n",
    "test_df = pd.DataFrame(test_arr,columns=['label','feature_1','feature_2','feature_3'])\n",
    "print(test_df)"
   ]
  },
  {
   "attachments": {},
   "cell_type": "markdown",
   "metadata": {},
   "source": [
    "To Identify Nearest (k) Neighbors"
   ]
  },
  {
   "cell_type": "code",
   "execution_count": 107,
   "metadata": {},
   "outputs": [],
   "source": [
    "# create a column labeled (k-Neighbors)\n",
    "\n",
    " "
   ]
  },
  {
   "cell_type": "code",
   "execution_count": 108,
   "metadata": {},
   "outputs": [
    {
     "name": "stdout",
     "output_type": "stream",
     "text": [
      "[[2.        5.0688373 3.1403378 ... 3.362192  4.025317  2.8503988]\n",
      " [2.        4.5426593 2.5859775 ... 2.973449  2.6177713 1.6957015]\n",
      " [2.        3.0368775 4.1267346 ... 4.1374901 2.3959145 4.1420818]\n",
      " ...\n",
      " [1.        4.3049096 1.8931881 ... 1.8096476 1.4688009 2.2801741]\n",
      " [2.        3.0188852 4.7099096 ... 3.6943663 3.1252646 2.8426788]\n",
      " [2.        3.7256854 1.89951   ... 4.3284038 2.7017165 4.7808253]]\n"
     ]
    }
   ],
   "source": [
    "print(data)"
   ]
  },
  {
   "cell_type": "code",
   "execution_count": 109,
   "metadata": {},
   "outputs": [
    {
     "name": "stdout",
     "output_type": "stream",
     "text": [
      "1\n",
      "2\n",
      "3\n"
     ]
    }
   ],
   "source": [
    "class Node:\n",
    "    instances = 1\n",
    "    def __init__(self):\n",
    "        self.id = Node.instances\n",
    "        Node.instances = Node.instances + 1\n",
    "        \n",
    "    def __str__(self):\n",
    "        return( str(self.id))\n",
    "    @classmethod\n",
    "    def get_instances_count(cls):\n",
    "        return cls.instances\n",
    "    \n",
    "n1 = Node()\n",
    "n2 = Node()\n",
    "n3 = Node()\n",
    "\n",
    "nodes = [n1,n2,n3]\n",
    "for n in nodes:\n",
    "    print(n)"
   ]
  },
  {
   "cell_type": "code",
   "execution_count": 110,
   "metadata": {},
   "outputs": [
    {
     "name": "stdout",
     "output_type": "stream",
     "text": [
      "0\n",
      "1\n",
      "2\n",
      "3\n",
      "4\n",
      "5\n",
      "6\n",
      "7\n",
      "8\n",
      "9\n"
     ]
    }
   ],
   "source": [
    "A = []\n",
    "try:\n",
    "    if(len(A) <= 0):\n",
    "        for i in range(0,10):\n",
    "            A.append(i)\n",
    "\n",
    "except ValueError:\n",
    "    print(\"uh oh\")\n",
    "else:\n",
    "    for i in A:\n",
    "        print(i)\n",
    "    "
   ]
  },
  {
   "cell_type": "code",
   "execution_count": 4,
   "metadata": {},
   "outputs": [
    {
     "name": "stdout",
     "output_type": "stream",
     "text": [
      "4\n",
      "0\n",
      "0\n",
      "0\n",
      "0\n"
     ]
    }
   ],
   "source": [
    "\n",
    "A = [0,0,0,0]\n",
    "print(len(A))\n",
    "\n",
    "for i in range(0,len(A)):\n",
    "    print(A[i])"
   ]
  }
 ],
 "metadata": {
  "kernelspec": {
   "display_name": "base",
   "language": "python",
   "name": "python3"
  },
  "language_info": {
   "codemirror_mode": {
    "name": "ipython",
    "version": 3
   },
   "file_extension": ".py",
   "mimetype": "text/x-python",
   "name": "python",
   "nbconvert_exporter": "python",
   "pygments_lexer": "ipython3",
   "version": "3.9.13"
  },
  "orig_nbformat": 4
 },
 "nbformat": 4,
 "nbformat_minor": 2
}
